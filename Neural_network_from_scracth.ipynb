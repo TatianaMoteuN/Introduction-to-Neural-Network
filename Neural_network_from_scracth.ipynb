{
 "cells": [
  {
   "cell_type": "code",
   "execution_count": 1,
   "metadata": {
    "colab": {},
    "colab_type": "code",
    "id": "9n5IfFKNoGKL"
   },
   "outputs": [],
   "source": [
    "import torch\n",
    "import time\n",
    "\n",
    "import torch\n",
    "from torch.autograd import Variable\n",
    "from torch import nn\n",
    "from torch.nn import functional as F\n",
    "\n",
    "import dlc_practical_prologue as prologue"
   ]
  },
  {
   "cell_type": "code",
   "execution_count": 2,
   "metadata": {
    "colab": {},
    "colab_type": "code",
    "id": "RX0CIz7qoOLx"
   },
   "outputs": [],
   "source": [
    "!python3 dlc_practical_prologue.py"
   ]
  },
  {
   "cell_type": "markdown",
   "metadata": {
    "colab_type": "text",
    "id": "V9FXHxRg_fRx"
   },
   "source": [
    "# Backpropagation"
   ]
  },
  {
   "cell_type": "markdown",
   "metadata": {
    "colab_type": "text",
    "id": "6KWaFalK_xGv"
   },
   "source": [
    "##  Activation function"
   ]
  },
  {
   "cell_type": "code",
   "execution_count": 3,
   "metadata": {
    "colab": {},
    "colab_type": "code",
    "id": "3LDYdsGt_zC_"
   },
   "outputs": [],
   "source": [
    "def sigma(x):\n",
    "    x = torch.tanh(x)\n",
    "    return x\n",
    "\n",
    "def dsigma(b):\n",
    "    y = sigma(b)\n",
    "    c = 1 - y.pow(2)\n",
    "    return c"
   ]
  },
  {
   "cell_type": "code",
   "execution_count": null,
   "metadata": {
    "colab": {},
    "colab_type": "code",
    "id": "YgFyT5ECColQ"
   },
   "outputs": [],
   "source": []
  },
  {
   "cell_type": "markdown",
   "metadata": {
    "colab_type": "text",
    "id": "y6G2ku2nCwzU"
   },
   "source": [
    "##  Loss function"
   ]
  },
  {
   "cell_type": "code",
   "execution_count": 4,
   "metadata": {
    "colab": {},
    "colab_type": "code",
    "id": "e-7m-M2iCy9u"
   },
   "outputs": [],
   "source": [
    "def loss(v,t):\n",
    "    a = torch.sub(v,t) \n",
    "    a = a.pow(2).sum()\n",
    "    return a\n",
    "\n",
    "\n",
    "def dloss(v,t):\n",
    "    a = 2*(v-t)\n",
    "    return a"
   ]
  },
  {
   "cell_type": "code",
   "execution_count": null,
   "metadata": {
    "colab": {},
    "colab_type": "code",
    "id": "Ra-JyssmEGGm"
   },
   "outputs": [],
   "source": []
  },
  {
   "cell_type": "markdown",
   "metadata": {
    "colab_type": "text",
    "id": "YCf8gwfRE42w"
   },
   "source": [
    "## forward and backward"
   ]
  },
  {
   "cell_type": "code",
   "execution_count": null,
   "metadata": {
    "colab": {},
    "colab_type": "code",
    "id": "X13AKRW5E97F"
   },
   "outputs": [],
   "source": []
  },
  {
   "cell_type": "code",
   "execution_count": 5,
   "metadata": {
    "colab": {},
    "colab_type": "code",
    "id": "TVJwPFLXFMsR"
   },
   "outputs": [],
   "source": [
    "\n",
    "def forward_pass(x,w1,w2,b1,b2):\n",
    "    x0 = x\n",
    "    s1  = w1.mv(x0)+ b1\n",
    "    x1 = sigma(s1)\n",
    "    s2  = w2.mv(x1) + b2 \n",
    "    x2 = sigma(s2)\n",
    "    return x0,s1,x1,s2,x2\n",
    "\n",
    "\n",
    "def back_ward_pass(w1,b1,w2,b2,t,s1,x,x1,s2,x2,dl_w1,dl_b1,dl_w2,dl_b2):\n",
    "    dl_x2 = dloss(x2,t)\n",
    "    dl_s2 = dl_x2 * dsigma(s2)\n",
    "    dl_x1 = w2.t().mv(dl_s2)\n",
    "    dl_s1 = dsigma(s1) * dl_x1\n",
    "\n",
    "    \n",
    "\n",
    "    dl_w2.add_(dl_s2.view(-1,1).mm(x1.view(1,-1)))\n",
    "    dl_b2.add_(dl_s2)\n",
    "    \n",
    "    dl_w1.add_(dl_s1.view(-1,1).mm(x.view(1,-1)))\n",
    "    dl_b1.add_(dl_s1)\n",
    "  "
   ]
  },
  {
   "cell_type": "markdown",
   "metadata": {
    "colab_type": "text",
    "id": "Gdfvke4zMT0K"
   },
   "source": [
    "## training the network"
   ]
  },
  {
   "cell_type": "code",
   "execution_count": 6,
   "metadata": {
    "colab": {
     "base_uri": "https://localhost:8080/",
     "height": 129
    },
    "colab_type": "code",
    "executionInfo": {
     "elapsed": 908,
     "status": "error",
     "timestamp": 1579697726865,
     "user": {
      "displayName": "Moteu Ngoli Tatiana",
      "photoUrl": "https://lh3.googleusercontent.com/a-/AAuE7mBFJb5RJm3wz-OgFnI9ZXDhrht3OEuszct5id4C=s64",
      "userId": "01422268200443282511"
     },
     "user_tz": 0
    },
    "id": "DeaEQ_2JMXFX",
    "outputId": "2962a9f3-4b2b-4c54-d33a-34e1a8c49ea8"
   },
   "outputs": [],
   "source": [
    "#load the data\n",
    "import dlc_practical_prologue as prologue"
   ]
  },
  {
   "cell_type": "code",
   "execution_count": 7,
   "metadata": {
    "scrolled": true
   },
   "outputs": [
    {
     "name": "stdout",
     "output_type": "stream",
     "text": [
      "* Using MNIST\n",
      "** Reduce the data-set (use --full for the full thing)\n",
      "** Use 1000 train and 1000 test samples\n"
     ]
    },
    {
     "name": "stderr",
     "output_type": "stream",
     "text": [
      "/home/aims/.local/lib/python3.7/site-packages/torchvision/datasets/mnist.py:53: UserWarning: train_data has been renamed data\n",
      "  warnings.warn(\"train_data has been renamed data\")\n",
      "/home/aims/.local/lib/python3.7/site-packages/torchvision/datasets/mnist.py:43: UserWarning: train_labels has been renamed targets\n",
      "  warnings.warn(\"train_labels has been renamed targets\")\n",
      "/home/aims/.local/lib/python3.7/site-packages/torchvision/datasets/mnist.py:58: UserWarning: test_data has been renamed data\n",
      "  warnings.warn(\"test_data has been renamed data\")\n",
      "/home/aims/.local/lib/python3.7/site-packages/torchvision/datasets/mnist.py:48: UserWarning: test_labels has been renamed targets\n",
      "  warnings.warn(\"test_labels has been renamed targets\")\n"
     ]
    }
   ],
   "source": [
    "train_input,train_target,test_input,test_target=prologue.load_data(one_hot_labels=True,normalize=True)"
   ]
  },
  {
   "cell_type": "code",
   "execution_count": 8,
   "metadata": {},
   "outputs": [],
   "source": [
    "train_input = train_input * 0.9\n",
    "test_input = test_input * 0.9\n",
    "train_target = train_target * 0.9\n",
    "test_target = test_target * 0.9"
   ]
  },
  {
   "cell_type": "code",
   "execution_count": 9,
   "metadata": {
    "colab": {},
    "colab_type": "code",
    "id": "6vvYA0rsN3PJ"
   },
   "outputs": [],
   "source": [
    "# create the weight and bias\n",
    "hidden=50\n",
    "size_output=10\n",
    "epsilon=1e-6\n",
    "w1 = torch.empty(hidden,train_input.size(1)).normal_(0,epsilon)\n",
    "w2 = torch.empty(size_output,hidden).normal_(0,epsilon)\n",
    "b1 = torch.empty(hidden).normal_(0,epsilon)\n",
    "b2 = torch.empty(size_output).normal_(0,epsilon)"
   ]
  },
  {
   "cell_type": "code",
   "execution_count": null,
   "metadata": {},
   "outputs": [],
   "source": []
  },
  {
   "cell_type": "code",
   "execution_count": 10,
   "metadata": {},
   "outputs": [
    {
     "data": {
      "text/plain": [
       "torch.Size([10])"
      ]
     },
     "execution_count": 10,
     "metadata": {},
     "output_type": "execute_result"
    }
   ],
   "source": [
    "b2.shape"
   ]
  },
  {
   "cell_type": "code",
   "execution_count": 11,
   "metadata": {
    "colab": {},
    "colab_type": "code",
    "id": "izyT0y2vQOzj"
   },
   "outputs": [],
   "source": [
    "#create the four tensor\n",
    "dl_w1 = torch.empty(w1.size())\n",
    "dl_w2 = torch.empty(w2.size())\n",
    "dl_b1 = torch.empty(b1.size())\n",
    "dl_b2 = torch.empty(b2.size())"
   ]
  },
  {
   "cell_type": "code",
   "execution_count": null,
   "metadata": {},
   "outputs": [],
   "source": []
  },
  {
   "cell_type": "code",
   "execution_count": 12,
   "metadata": {},
   "outputs": [],
   "source": [
    "x=train_input[0]\n",
    "#forward_pass(x,w1,w2,b1,b2)\n"
   ]
  },
  {
   "cell_type": "code",
   "execution_count": 13,
   "metadata": {},
   "outputs": [],
   "source": [
    "x1 = forward_pass(x,w1,w2,b1,b2)[2]\n",
    "x2 = forward_pass(x,w1,w2,b1,b2)[4]\n",
    "s1 = forward_pass(x,w1,w2,b1,b2)[1]\n",
    "s2 = forward_pass(x,w1,w2,b1,b2)[3]\n",
    "t = train_target[0]\n",
    "back_ward_pass(w1,b1,w2,b2,t,s1,x,x1,s2,x2,dl_w1,dl_b1,dl_w2,dl_b2)"
   ]
  },
  {
   "cell_type": "code",
   "execution_count": 14,
   "metadata": {},
   "outputs": [
    {
     "data": {
      "text/plain": [
       "tensor([0.0000, 0.0000, 0.0000, 0.0000, 0.0000, 0.9000, 0.0000, 0.0000, 0.0000,\n",
       "        0.0000])"
      ]
     },
     "execution_count": 14,
     "metadata": {},
     "output_type": "execute_result"
    }
   ],
   "source": [
    "t"
   ]
  },
  {
   "cell_type": "code",
   "execution_count": 15,
   "metadata": {},
   "outputs": [],
   "source": [
    "epochs = 100\n",
    "lr = 0.1 / train_input.size(0)"
   ]
  },
  {
   "cell_type": "code",
   "execution_count": 16,
   "metadata": {},
   "outputs": [],
   "source": [
    "train_error = []\n",
    "for epoch in range(epochs):\n",
    "    dl_w1.zero_()\n",
    "    dl_w2.zero_()\n",
    "    dl_b1.zero_()\n",
    "    dl_b2.zero_()\n",
    "    train_errors = 0\n",
    "    for i in range(train_input.size(0)):\n",
    "        x = train_input[i]\n",
    "        t = train_target[i]\n",
    "        accuracy = 0\n",
    "    \n",
    "        x0,s1,x1,s2,x2 = forward_pass(x,w1,w2,b1,b2)\n",
    "        #print(x2)\n",
    "        #print(loss(x2,t))\n",
    "        train_errors+= loss(x2,t)\n",
    "        \n",
    "        back_ward_pass(w1,b1,w2,b2,t,s1,x,x1,s2,x2,dl_w1,dl_b1,dl_w2,dl_b2)\n",
    "     \n",
    "    w1 = w1 - lr * dl_w1\n",
    "    w2 = w2 - lr * dl_w2\n",
    "    b1 = b1 - lr * dl_b1\n",
    "    b2 = b2 - lr * dl_b2\n",
    "    train_error.append(int(train_errors) / train_input.size(0))    \n",
    "    #print(\"train_errors{}\".format(train_error))"
   ]
  },
  {
   "cell_type": "code",
   "execution_count": 17,
   "metadata": {},
   "outputs": [],
   "source": [
    "import matplotlib.pyplot as plt"
   ]
  },
  {
   "cell_type": "code",
   "execution_count": 18,
   "metadata": {
    "scrolled": true
   },
   "outputs": [
    {
     "data": {
      "text/plain": [
       "[<matplotlib.lines.Line2D at 0x7f6d24e79780>]"
      ]
     },
     "execution_count": 18,
     "metadata": {},
     "output_type": "execute_result"
    },
    {
     "data": {
      "image/png": "[encoded data removed]",
      "text/plain": [
       "<Figure size 432x288 with 1 Axes>"
      ]
     },
     "metadata": {
      "needs_background": "light"
     },
     "output_type": "display_data"
    }
   ],
   "source": [
    "plt.plot(train_error)"
   ]
  },
  {
   "cell_type": "code",
   "execution_count": 19,
   "metadata": {},
   "outputs": [
    {
     "data": {
      "text/plain": [
       "torch.Size([1000, 784])"
      ]
     },
     "execution_count": 19,
     "metadata": {},
     "output_type": "execute_result"
    }
   ],
   "source": [
    "test_input.size()"
   ]
  },
  {
   "cell_type": "code",
   "execution_count": 20,
   "metadata": {},
   "outputs": [],
   "source": [
    "Prediction = torch.zeros(size=(1000,10))"
   ]
  },
  {
   "cell_type": "code",
   "execution_count": 21,
   "metadata": {},
   "outputs": [],
   "source": [
    "for k in range(Prediction.size(0)):\n",
    "    x = test_input[k]\n",
    "    _,_,_,_,x2 = forward_pass(x,w1,w2,b1,b2)\n",
    "    \n",
    "    Prediction[k,:] = x2\n",
    "\n",
    "    "
   ]
  },
  {
   "cell_type": "code",
   "execution_count": 22,
   "metadata": {},
   "outputs": [],
   "source": [
    "test = torch.argmax(test_target,dim=1)"
   ]
  },
  {
   "cell_type": "code",
   "execution_count": 23,
   "metadata": {},
   "outputs": [],
   "source": [
    "pred = torch.argmax(Prediction,dim=1)"
   ]
  },
  {
   "cell_type": "code",
   "execution_count": 24,
   "metadata": {},
   "outputs": [
    {
     "data": {
      "text/plain": [
       "74.5"
      ]
     },
     "execution_count": 24,
     "metadata": {},
     "output_type": "execute_result"
    }
   ],
   "source": [
    "(int(sum(test==pred)) / pred.size(0)) * 100"
   ]
  },
  {
   "cell_type": "markdown",
   "metadata": {},
   "source": [
    "## CNN"
   ]
  },
  {
   "cell_type": "code",
   "execution_count": 25,
   "metadata": {},
   "outputs": [
    {
     "name": "stdout",
     "output_type": "stream",
     "text": [
      "* Using MNIST\n",
      "** Reduce the data-set (use --full for the full thing)\n",
      "** Use 1000 train and 1000 test samples\n"
     ]
    },
    {
     "name": "stderr",
     "output_type": "stream",
     "text": [
      "/home/aims/.local/lib/python3.7/site-packages/torchvision/datasets/mnist.py:53: UserWarning: train_data has been renamed data\n",
      "  warnings.warn(\"train_data has been renamed data\")\n",
      "/home/aims/.local/lib/python3.7/site-packages/torchvision/datasets/mnist.py:43: UserWarning: train_labels has been renamed targets\n",
      "  warnings.warn(\"train_labels has been renamed targets\")\n",
      "/home/aims/.local/lib/python3.7/site-packages/torchvision/datasets/mnist.py:58: UserWarning: test_data has been renamed data\n",
      "  warnings.warn(\"test_data has been renamed data\")\n",
      "/home/aims/.local/lib/python3.7/site-packages/torchvision/datasets/mnist.py:48: UserWarning: test_labels has been renamed targets\n",
      "  warnings.warn(\"test_labels has been renamed targets\")\n"
     ]
    }
   ],
   "source": [
    "train_input, train_target, test_input, test_target = \\\n",
    "    prologue.load_data(one_hot_labels = True, normalize = True, flatten = False)"
   ]
  },
  {
   "cell_type": "code",
   "execution_count": 92,
   "metadata": {},
   "outputs": [],
   "source": [
    "class Net(nn.Module):\n",
    "    def __init__(self):\n",
    "        super(Net, self).__init__()\n",
    "        self.conv1 = nn.Conv2d(1, 32, kernel_size=5)\n",
    "        self.conv2 = nn.Conv2d(32, 64, kernel_size=5)\n",
    "        self.fc1 = nn.Linear(256, 200)\n",
    "        self.fc2 = nn.Linear(200, 10)\n",
    "\n",
    "    def forward(self, x):\n",
    "        x = F.relu(F.max_pool2d(self.conv1(x), kernel_size=3, stride=3))\n",
    "        x = F.relu(F.max_pool2d(self.conv2(x), kernel_size=2, stride=2))\n",
    "        x = F.relu(self.fc1(x.view(-1, 256)))\n",
    "        x = self.fc2(x)\n",
    "        return x"
   ]
  },
  {
   "cell_type": "code",
   "execution_count": 97,
   "metadata": {},
   "outputs": [],
   "source": [
    "def train_model(model,train_input,train_target, mini_batch_size=100):\n",
    "    \n",
    "    train_input, train_target = Variable(train_input), Variable(train_target)\n",
    "\n",
    "    model, criterion = Net(), nn.MSELoss()\n",
    "    eta = 1e-1\n",
    "\n",
    "    for e in range(0, 25):\n",
    "        sum_loss = 0\n",
    "        # We do this with mini-batches\n",
    "        for b in range(0, train_input.size(0), mini_batch_size):\n",
    "            output = model(train_input.narrow(0, b, mini_batch_size))\n",
    "            loss = criterion(output, train_target.narrow(0, b, mini_batch_size))\n",
    "            sum_loss = sum_loss + loss.item()\n",
    "            model.zero_grad()\n",
    "            loss.backward()\n",
    "            for p in model.parameters():\n",
    "                p.data.sub_(eta * p.grad.data)\n",
    "        print(e, sum_loss)"
   ]
  },
  {
   "cell_type": "code",
   "execution_count": null,
   "metadata": {},
   "outputs": [],
   "source": []
  },
  {
   "cell_type": "code",
   "execution_count": 110,
   "metadata": {},
   "outputs": [
    {
     "name": "stdout",
     "output_type": "stream",
     "text": [
      "0 0.9317096769809723\n",
      "1 0.8004817217588425\n",
      "2 0.7303637638688087\n",
      "3 0.6706141084432602\n",
      "4 0.6184233389794827\n",
      "5 0.5737861730158329\n",
      "6 0.5374620966613293\n",
      "7 0.5120180286467075\n",
      "8 0.5020802095532417\n",
      "9 0.467223834246397\n",
      "10 0.43965745344758034\n",
      "11 0.4230715185403824\n",
      "12 0.4242453761398792\n",
      "13 0.4068593233823776\n",
      "14 0.37808458134531975\n",
      "15 0.3920299708843231\n",
      "16 0.357477106153965\n",
      "17 0.33990385197103024\n",
      "18 0.3309630714356899\n",
      "19 0.32369043305516243\n",
      "20 0.31674420461058617\n",
      "21 0.3086628057062626\n",
      "22 0.2963087745010853\n",
      "23 0.2845682445913553\n",
      "24 0.30947767943143845\n"
     ]
    }
   ],
   "source": [
    "model= Net()\n",
    "train_model(model,train_input,train_target)"
   ]
  },
  {
   "cell_type": "markdown",
   "metadata": {},
   "source": [
    "## Test error"
   ]
  },
  {
   "cell_type": "code",
   "execution_count": 111,
   "metadata": {},
   "outputs": [],
   "source": [
    "\n",
    "def compute_nb_errors(model,test_input, test_target, mini_batch_size = 100):\n",
    "     \n",
    "    test_input, test_target = Variable(test_input), Variable(test_target)\n",
    "\n",
    "\n",
    "    accuracy_list = []\n",
    "    for t in range(0, test_input.size(0),mini_batch_size):\n",
    "        output = model(test_input.narrow(0, t, mini_batch_size))\n",
    "        target = test_target.narrow(0, t, mini_batch_size)\n",
    "        pred = torch.tensor([int(torch.argmax(output[i])) for i in range(len(output))])\n",
    "\n",
    "        correct = torch.tensor([int(torch.argmax(target[i])) for i in range(len(target))])\n",
    "\n",
    "        accuracy =(((pred == correct) *1.0).mean()) * 100\n",
    "        accuracy_list.append(accuracy)\n",
    "        maxL = max(accuracy_list)\n",
    "    print (float(accuracy),float(maxL))\n",
    "            "
   ]
  },
  {
   "cell_type": "code",
   "execution_count": 112,
   "metadata": {},
   "outputs": [
    {
     "name": "stdout",
     "output_type": "stream",
     "text": [
      "12.0 16.0\n"
     ]
    }
   ],
   "source": [
    "compute_nb_errors(model,test_input, test_target)"
   ]
  },
  {
   "cell_type": "markdown",
   "metadata": {},
   "source": [
    "# 3CNN"
   ]
  },
  {
   "cell_type": "code",
   "execution_count": null,
   "metadata": {},
   "outputs": [],
   "source": [
    "class Net2(nn.Module):\n",
    "    def __init__(self):\n",
    "        super(Net, self).__init__()\n",
    "        self.conv1 = nn.Conv2d(1, 32, kernel_size=5)\n",
    "        self.conv2 = nn.Conv2d(32, 64, kernel_size=5)\n",
    "        self.conv3 = nn.Conv2d(64,32, kernel_size=5)\n",
    "        self.fc1 = nn.Linear(, 200)\n",
    "        self.fc2 = nn.Linear(200, 50)\n",
    "        self.fc3 = nn.Linear(50, 10)\n",
    "\n",
    "    def forward(self, x):\n",
    "        x = F.relu(F.max_pool2d(self.conv1(x), kernel_size=3, stride=3))\n",
    "        x = F.relu(F.max_pool2d(self.conv2(x), kernel_size=2, stride=2))\n",
    "        x = F.relu(F.max_pool2d(self.conv3(x), kernel_size=1, stride=1))\n",
    "        x = F.relu(self.fc1(x.view(-1, 512)))\n",
    "        x = F.relu(self.fc2(x.view(-1, 200)))\n",
    "        x = self.fc3(x)\n",
    "        return x"
   ]
  }
 ],
 "metadata": {
  "colab": {
   "authorship_tag": "ABX9TyNQHuw3thKM90OqhBbVErh0",
   "collapsed_sections": [],
   "name": "tutorial.ipynb",
   "provenance": [],
   "toc_visible": true
  },
  "kernelspec": {
   "display_name": "Python 3",
   "language": "python",
   "name": "python3"
  },
  "language_info": {
   "codemirror_mode": {
    "name": "ipython",
    "version": 3
   },
   "file_extension": ".py",
   "mimetype": "text/x-python",
   "name": "python",
   "nbconvert_exporter": "python",
   "pygments_lexer": "ipython3",
   "version": "3.7.3"
  }
 },
 "nbformat": 4,
 "nbformat_minor": 1
}
