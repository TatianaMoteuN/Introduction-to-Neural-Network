{
 "cells": [
  {
   "cell_type": "code",
   "execution_count": 9,
   "metadata": {},
   "outputs": [],
   "source": [
    "import torch\n",
    "import torch.nn as nn\n",
    "import torch.optim as optim\n",
    "import torch.nn.functional as F"
   ]
  },
  {
   "cell_type": "code",
   "execution_count": 14,
   "metadata": {},
   "outputs": [],
   "source": [
    "class MLP(nn.Module):\n",
    "    def __init__(self):\n",
    "        super(MLP, self).__init__()\n",
    "        \n",
    "        self.l1 = nn.Linear(28 * 28, 5)\n",
    "        self.l2 = nn.Linear(5, 50)\n",
    "        self.l3 = nn.Linear(50, 30)\n",
    "        self.l4 = nn.Linear(30, 15)\n",
    "        self.out = nn.Linear(15, 10)\n",
    "        \n",
    "    def forward(self, x):\n",
    "        x = self.l1(x)\n",
    "        x = F.tanh(x)\n",
    "        x = self.l2(x)\n",
    "        x = F.tanh(x)\n",
    "        x = self.l3(x)\n",
    "        x = F.tanh(x)\n",
    "        x = self.l4(x)\n",
    "        x = F.tanh()\n",
    "        x = self.l5(x)\n",
    "        x = F.softmax(x, dim=1)\n",
    "        return x"
   ]
  },
  {
   "cell_type": "code",
   "execution_count": 15,
   "metadata": {},
   "outputs": [],
   "source": [
    "#train the modele\n",
    "input_size = 28 * 28\n",
    "hidden = 4\n",
    "output_size = 10\n",
    "model = MLP()\n",
    "optimizer = optim.SGD(model.parameters(), lr=0.1)\n",
    "criterion = nn.CrossEntropyLoss()\n",
    "\n",
    "def train(model, x, target,epoch = 10):\n",
    "    error = []\n",
    "    for e in range(epoch):\n",
    "        optimizer.zeros_grad()\n",
    "        output = model(x)\n",
    "        loss = criterion(output_size,target)\n",
    "        loss.Backward()\n",
    "        optimizer.step()\n",
    "        error += [loss.item()]\n",
    "        print(error)"
   ]
  },
  {
   "cell_type": "raw",
   "metadata": {},
   "source": []
  }
 ],
 "metadata": {
  "kernelspec": {
   "display_name": "Python 3",
   "language": "python",
   "name": "python3"
  },
  "language_info": {
   "codemirror_mode": {
    "name": "ipython",
    "version": 3
   },
   "file_extension": ".py",
   "mimetype": "text/x-python",
   "name": "python",
   "nbconvert_exporter": "python",
   "pygments_lexer": "ipython3",
   "version": "3.7.3"
  }
 },
 "nbformat": 4,
 "nbformat_minor": 2
}
