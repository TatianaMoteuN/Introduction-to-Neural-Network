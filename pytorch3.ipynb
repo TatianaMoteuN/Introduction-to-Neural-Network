{
 "cells": [
  {
   "cell_type": "code",
   "execution_count": 4,
   "metadata": {},
   "outputs": [],
   "source": [
    "import numpy as np\n",
    "import time"
   ]
  },
  {
   "cell_type": "code",
   "execution_count": 15,
   "metadata": {},
   "outputs": [],
   "source": [
    "#sum all item in a list\n",
    "def sum_list(a):\n",
    "    b = 0\n",
    "    for i in range(len(a)):\n",
    "        b += a[i]\n",
    "    return b"
   ]
  },
  {
   "cell_type": "code",
   "execution_count": 16,
   "metadata": {},
   "outputs": [],
   "source": [
    "t1 = time.perf_counter()\n",
    "a = [1,2,3]\n",
    "sum_list(a)\n",
    "t2 = time.perf_counter()"
   ]
  },
  {
   "cell_type": "code",
   "execution_count": 17,
   "metadata": {},
   "outputs": [],
   "source": [
    "t = t2-t1"
   ]
  },
  {
   "cell_type": "code",
   "execution_count": 18,
   "metadata": {},
   "outputs": [
    {
     "data": {
      "text/plain": [
       "0.00018688602722249925"
      ]
     },
     "execution_count": 18,
     "metadata": {},
     "output_type": "execute_result"
    }
   ],
   "source": [
    "t"
   ]
  },
  {
   "cell_type": "code",
   "execution_count": 21,
   "metadata": {},
   "outputs": [],
   "source": [
    "#multiplies all items\n",
    "def mul_item(a):\n",
    "    nbr_mul = 1\n",
    "    for i in range(len(a)):\n",
    "        nbr_mul *= a[i]\n",
    "    return nbr_mul"
   ]
  },
  {
   "cell_type": "code",
   "execution_count": 22,
   "metadata": {},
   "outputs": [
    {
     "data": {
      "text/plain": [
       "6"
      ]
     },
     "execution_count": 22,
     "metadata": {},
     "output_type": "execute_result"
    }
   ],
   "source": [
    "mul_item(a)"
   ]
  },
  {
   "cell_type": "code",
   "execution_count": 28,
   "metadata": {},
   "outputs": [],
   "source": [
    "#get the largest number from list\n",
    "def max(a):\n",
    "    max = a[0]\n",
    "    for i in a:\n",
    "        if i > max:\n",
    "            max = i\n",
    "    return max\n",
    "    "
   ]
  },
  {
   "cell_type": "code",
   "execution_count": 29,
   "metadata": {},
   "outputs": [
    {
     "data": {
      "text/plain": [
       "3"
      ]
     },
     "execution_count": 29,
     "metadata": {},
     "output_type": "execute_result"
    }
   ],
   "source": [
    "max(a)"
   ]
  },
  {
   "cell_type": "code",
   "execution_count": 30,
   "metadata": {},
   "outputs": [],
   "source": [
    "#get the smallest number in the list\n",
    "def min(a):\n",
    "    min = a[0]\n",
    "    for i in a:\n",
    "        if i < min:\n",
    "            min = i\n",
    "    return min"
   ]
  },
  {
   "cell_type": "code",
   "execution_count": 31,
   "metadata": {},
   "outputs": [
    {
     "data": {
      "text/plain": [
       "1"
      ]
     },
     "execution_count": 31,
     "metadata": {},
     "output_type": "execute_result"
    }
   ],
   "source": [
    "min(a)"
   ]
  },
  {
   "cell_type": "code",
   "execution_count": 32,
   "metadata": {},
   "outputs": [],
   "source": [
    "#count the number of string\n",
    "def count_str(list):\n",
    "    count = 0\n",
    "    for i in list:\n",
    "        if len(i) >= 2:\n",
    "            if i[0] == i[-1]:\n",
    "                count+=1\n",
    "    return count"
   ]
  },
  {
   "cell_type": "code",
   "execution_count": 34,
   "metadata": {},
   "outputs": [
    {
     "data": {
      "text/plain": [
       "1"
      ]
     },
     "execution_count": 34,
     "metadata": {},
     "output_type": "execute_result"
    }
   ],
   "source": [
    "l = ['abdc', '1223', 'abaa']\n",
    "count_str(l)"
   ]
  },
  {
   "cell_type": "code",
   "execution_count": 51,
   "metadata": {},
   "outputs": [],
   "source": [
    "#access an index in a list\n",
    "def index(elt, list):\n",
    "    if elt in list:\n",
    "        for i in range(len(list)):\n",
    "            if elt == list[i]:\n",
    "                print(i)\n",
    "    else:\n",
    "        \n",
    "        return 0\n",
    "    "
   ]
  },
  {
   "cell_type": "code",
   "execution_count": 53,
   "metadata": {},
   "outputs": [
    {
     "name": "stdout",
     "output_type": "stream",
     "text": [
      "1\n",
      "3\n"
     ]
    }
   ],
   "source": [
    "c = [2,3,4,3]\n",
    "index(3,c)"
   ]
  },
  {
   "cell_type": "code",
   "execution_count": 61,
   "metadata": {},
   "outputs": [],
   "source": [
    "#Python program to create an Enum object and display a member name and value\n",
    "import enum"
   ]
  },
  {
   "cell_type": "code",
   "execution_count": null,
   "metadata": {},
   "outputs": [],
   "source": [
    "class Country(enum):\n",
    "    Afghanistan = 93\n",
    "    Albania = 355\n",
    "    Algeria = 213\n",
    "    Andorra = 376\n",
    "    Angola = 244\n",
    "    Antarctica = 672\n",
    "    \n"
   ]
  },
  {
   "cell_type": "code",
   "execution_count": 122,
   "metadata": {},
   "outputs": [],
   "source": [
    "#single linkedlist\n",
    "class Node():\n",
    "    def __init__(self, data=None):\n",
    "        self.data = data\n",
    "        self.next = None\n",
    "        \n",
    "class Linkedlist():\n",
    "    def __init__(self, head):\n",
    "        self.head = None\n",
    "        self.tail = None\n",
    "        self.count = 0\n",
    "        \n",
    "    def append_item(self,data):\n",
    "        node = Node(data)\n",
    "        if self.head:\n",
    "            self.head.next = node\n",
    "            self.head = node\n",
    "        else:\n",
    "            self.tail = node\n",
    "            self.head = node\n",
    "        self.count +=1\n",
    "        \n",
    "    def iterate_item(self):\n",
    "        current_item = self.tail\n",
    "        while current_item:\n",
    "            val = current_item.data\n",
    "            current_item = current_item.next\n",
    "            yield val\n",
    "            \n",
    "    def size_list(self):\n",
    "        count = 1\n",
    "        current = self.head\n",
    "        while current.next != None:\n",
    "            count +=1\n",
    "            current = current.next\n",
    "        return count"
   ]
  },
  {
   "cell_type": "code",
   "execution_count": null,
   "metadata": {},
   "outputs": [],
   "source": []
  },
  {
   "cell_type": "code",
   "execution_count": 120,
   "metadata": {},
   "outputs": [],
   "source": [
    "a3 = Node('c')\n",
    "a2 = Node('b')\n",
    "ll = Linkedlist(a1)\n",
    "ll.append_item(a3)\n",
    "ll.append_item(a2)\n",
    "# for val in ll.iterate_item():\n",
    "#     print(val)"
   ]
  },
  {
   "cell_type": "code",
   "execution_count": 121,
   "metadata": {},
   "outputs": [
    {
     "data": {
      "text/plain": [
       "'b'"
      ]
     },
     "execution_count": 121,
     "metadata": {},
     "output_type": "execute_result"
    }
   ],
   "source": [
    "ll.head.data.data"
   ]
  },
  {
   "cell_type": "code",
   "execution_count": 78,
   "metadata": {},
   "outputs": [
    {
     "data": {
      "text/plain": [
       "<__main__.Linkedlist at 0x7fd41917de48>"
      ]
     },
     "execution_count": 78,
     "metadata": {},
     "output_type": "execute_result"
    }
   ],
   "source": []
  },
  {
   "cell_type": "code",
   "execution_count": 92,
   "metadata": {},
   "outputs": [],
   "source": [
    "def binarysearch(arr,nbr):\n",
    "    lenght = len(arr)\n",
    "    first = 0\n",
    "    last = lenght - 1\n",
    "    mid = (first + last +1) // 2\n",
    "    while mid != 0 or mid>=lenght-1:\n",
    "        if nbr == arr[mid]:\n",
    "            return True\n",
    "        elif nbr < arr[mid]:\n",
    "            \n",
    "            last = mid - 1\n",
    "            mid = (first + last +1) //2\n",
    "        else:\n",
    "            nbr > arr[mid]\n",
    "            first = mid + 1\n",
    "            mid = (first + last + 1) // 2\n",
    "    return False"
   ]
  },
  {
   "cell_type": "code",
   "execution_count": 94,
   "metadata": {},
   "outputs": [],
   "source": [
    "# arr = [2,4,5,6,7]\n",
    "# binarysearch(arr,20)"
   ]
  },
  {
   "cell_type": "code",
   "execution_count": 85,
   "metadata": {},
   "outputs": [
    {
     "data": {
      "text/plain": [
       "False"
      ]
     },
     "execution_count": 85,
     "metadata": {},
     "output_type": "execute_result"
    }
   ],
   "source": [
    "binarysearch(arr,1)"
   ]
  },
  {
   "cell_type": "code",
   "execution_count": null,
   "metadata": {},
   "outputs": [],
   "source": [
    "#insert in a sorted list\n",
    "class Node():\n",
    "    def __init__(self,data):\n",
    "        self.data = data\n",
    "        self.next = None\n",
    "        \n",
    "class LinkedList():\n",
    "    def __init__(self):\n",
    "        self.head = None\n",
    "        \n",
    "    def sortedInsert(self, new_node):\n",
    "        if self.head is None:\n",
    "            new_node.next = self.head\n",
    "            self.head = new_node\n",
    "        elif self.head.data >= new_node.data:\n",
    "            new_node.next = self.head\n",
    "            self.head = new_node\n",
    "        else:\n",
    "            current = self.head\n",
    "            while (current.next is not None and current.next.data < new.new_node.data):\n",
    "                current = current.next\n",
    "            new.node.next = current.next\n",
    "            current.next = new_node\n",
    "            \n",
    "    # insert a new node at the beginning\n",
    "    def push(self,new_data):\n",
    "        new_node = Node(new_data)\n",
    "        new_node.next = self.head\n",
    "        self.head = new_node\n",
    "        \n",
    "        "
   ]
  },
  {
   "cell_type": "code",
   "execution_count": 129,
   "metadata": {},
   "outputs": [
    {
     "name": "stdout",
     "output_type": "stream",
     "text": [
      "enter a number:34\n",
      "7\n"
     ]
    }
   ],
   "source": [
    "num = input(\"enter a number:\")\n",
    "sum = 0\n",
    "for i in num:\n",
    "    sum += int(i)\n",
    "print(sum)"
   ]
  },
  {
   "cell_type": "code",
   "execution_count": 144,
   "metadata": {},
   "outputs": [],
   "source": [
    "# def countSubarrays(a, n, m): \n",
    "#     count = 0; \n",
    "  \n",
    "#     # traverse for all \n",
    "#     # possible subarrays \n",
    "#     for i in range(n):  \n",
    "#         odd = 0; \n",
    "#         for j in range(i, n):  \n",
    "#             if (a[j] % 2): \n",
    "#                 odd += 1; \n",
    "  \n",
    "#             # if count of odd numbers  \n",
    "#             # in subarray is m \n",
    "#             if (odd == m): \n",
    "#                 count += 1; \n",
    "#     return count; \n",
    "def countSubarrays(arr, k):\n",
    "    count = 0\n",
    "    for i in range(len(arr)):\n",
    "        odd = 0\n",
    "        for j in range(i, len(arr)):\n",
    "            if (arr[j] % 2):\n",
    "                odd += 1\n",
    "            if (odd == k):\n",
    "                count += 1\n",
    "    return count"
   ]
  },
  {
   "cell_type": "code",
   "execution_count": 147,
   "metadata": {},
   "outputs": [
    {
     "data": {
      "text/plain": [
       "6"
      ]
     },
     "execution_count": 147,
     "metadata": {},
     "output_type": "execute_result"
    }
   ],
   "source": [
    "arr = [1,2,3,4]\n",
    "k = 1\n",
    "#expected results\n",
    "countSubarrays(arr,k)"
   ]
  },
  {
   "cell_type": "code",
   "execution_count": 141,
   "metadata": {},
   "outputs": [],
   "source": [
    "def longSubarrWithKOddNum(arr, n, k) : \n",
    "      \n",
    "    mx, count, start = 0, 0, 0\n",
    "  \n",
    "    # Traverse the given array \n",
    "    for i in range(0, n) : \n",
    "          \n",
    "        # if number is odd increment count \n",
    "        if (arr[i] % 2 != 0) : \n",
    "            count = count + 1\n",
    "              \n",
    "        # remove elements from sub-array from  \n",
    "        # 'start' index when count > k \n",
    "        while (count > k and start <= i) : \n",
    "              \n",
    "            if (arr[start] % 2 != 0) : \n",
    "                count = count - 1\n",
    "                  \n",
    "            start = start + 1\n",
    "          \n",
    "        # if count == k, then compare max   \n",
    "        # with current sub-array length \n",
    "        if (count == k) : \n",
    "            if (mx < (i - start + 1)) : \n",
    "                mx = i - start + 1\n",
    "      \n",
    "    # required length \n",
    "    return mx \n",
    "      \n",
    "  \n"
   ]
  },
  {
   "cell_type": "code",
   "execution_count": 142,
   "metadata": {},
   "outputs": [
    {
     "data": {
      "text/plain": [
       "3"
      ]
     },
     "execution_count": 142,
     "metadata": {},
     "output_type": "execute_result"
    }
   ],
   "source": [
    "# Driver Code \n",
    "arr = [1,2,3,4] \n",
    "n = len(arr) \n",
    "k = 1\n",
    "longSubarrWithKOddNum(arr,n,k)"
   ]
  },
  {
   "cell_type": "code",
   "execution_count": null,
   "metadata": {},
   "outputs": [],
   "source": []
  }
 ],
 "metadata": {
  "kernelspec": {
   "display_name": "Python 3",
   "language": "python",
   "name": "python3"
  },
  "language_info": {
   "codemirror_mode": {
    "name": "ipython",
    "version": 3
   },
   "file_extension": ".py",
   "mimetype": "text/x-python",
   "name": "python",
   "nbconvert_exporter": "python",
   "pygments_lexer": "ipython3",
   "version": "3.7.3"
  }
 },
 "nbformat": 4,
 "nbformat_minor": 2
}
